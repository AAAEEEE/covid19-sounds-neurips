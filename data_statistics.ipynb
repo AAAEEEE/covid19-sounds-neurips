{
 "cells": [
  {
   "cell_type": "markdown",
   "metadata": {},
   "source": [
    " # Data statistics"
   ]
  },
  {
   "cell_type": "code",
   "execution_count": 1,
   "metadata": {},
   "outputs": [],
   "source": [
    "import pandas as pd\n",
    "\n",
    "df = pd.read_csv(\"results_raw_20210426_lan_yamnet_android.csv\",sep = ';')\n",
    "df = df.drop(['Date','Folder Name','Symptoms','Covid-Tested','Hospitalized',\n",
    "              'Location','Voice filename','Cough filename','Breath filename','Voice check','Cough check','Breath check'],axis=1)\n",
    "df_android = df.drop_duplicates()\n",
    "\n",
    "df = pd.read_csv(\"results_raw_20210426_lan_yamnet_ios.csv\",sep = ';')\n",
    "df = df.drop(['Date','Folder Name','Symptoms','Covid-Tested','Hospitalized',\n",
    "              'Location','Voice filename','Cough filename','Breath filename','Voice check','Cough check','Breath check'],axis=1)\n",
    "df_ios = df.drop_duplicates()\n",
    "\n",
    "df = pd.read_csv(\"results_raw_20210426_lan_yamnet_web.csv\",sep = ';')\n",
    "df = df.drop(['Uid','Folder Name','Symptoms','Covid-Tested','Hospitalized',\n",
    "              'Location','Voice filename','Cough filename','Breath filename','Voice check','Cough check','Breath check'],axis=1)\n",
    "df_web = df.drop_duplicates()\n",
    "df_web = df_web.rename(columns={'Date':'Uid'})"
   ]
  },
  {
   "cell_type": "code",
   "execution_count": 2,
   "metadata": {},
   "outputs": [
    {
     "data": {
      "text/plain": [
       "36119"
      ]
     },
     "execution_count": 2,
     "metadata": {},
     "output_type": "execute_result"
    }
   ],
   "source": [
    "df_ios.shape[0] + df_android.shape[0] + df_web.shape[0]"
   ]
  },
  {
   "cell_type": "code",
   "execution_count": 3,
   "metadata": {},
   "outputs": [],
   "source": [
    "df = pd.concat([df_ios, df_android, df_web],axis=0,ignore_index=True)"
   ]
  },
  {
   "cell_type": "code",
   "execution_count": 4,
   "metadata": {},
   "outputs": [
    {
     "data": {
      "text/html": [
       "<div>\n",
       "<style scoped>\n",
       "    .dataframe tbody tr th:only-of-type {\n",
       "        vertical-align: middle;\n",
       "    }\n",
       "\n",
       "    .dataframe tbody tr th {\n",
       "        vertical-align: top;\n",
       "    }\n",
       "\n",
       "    .dataframe thead th {\n",
       "        text-align: right;\n",
       "    }\n",
       "</style>\n",
       "<table border=\"1\" class=\"dataframe\">\n",
       "  <thead>\n",
       "    <tr style=\"text-align: right;\">\n",
       "      <th></th>\n",
       "      <th>Uid</th>\n",
       "      <th>Age</th>\n",
       "      <th>Sex</th>\n",
       "      <th>Medhistory</th>\n",
       "      <th>Smoking</th>\n",
       "      <th>Language</th>\n",
       "    </tr>\n",
       "  </thead>\n",
       "  <tbody>\n",
       "    <tr>\n",
       "      <th>0</th>\n",
       "      <td>005G62h2Muip</td>\n",
       "      <td>20-29</td>\n",
       "      <td>Female</td>\n",
       "      <td>None</td>\n",
       "      <td>ltOnce</td>\n",
       "      <td>it</td>\n",
       "    </tr>\n",
       "    <tr>\n",
       "      <th>1</th>\n",
       "      <td>00CwMwLaxlh6</td>\n",
       "      <td>40-49</td>\n",
       "      <td>Male</td>\n",
       "      <td>hbp</td>\n",
       "      <td>never</td>\n",
       "      <td>it</td>\n",
       "    </tr>\n",
       "    <tr>\n",
       "      <th>2</th>\n",
       "      <td>00ELrVjrzo6L</td>\n",
       "      <td>20-29</td>\n",
       "      <td>Male</td>\n",
       "      <td>None</td>\n",
       "      <td>never</td>\n",
       "      <td>en</td>\n",
       "    </tr>\n",
       "    <tr>\n",
       "      <th>3</th>\n",
       "      <td>00nJAQ2uNrUW</td>\n",
       "      <td>20-29</td>\n",
       "      <td>Male</td>\n",
       "      <td>None</td>\n",
       "      <td>21+</td>\n",
       "      <td>en</td>\n",
       "    </tr>\n",
       "    <tr>\n",
       "      <th>4</th>\n",
       "      <td>00PM5iIqU9ML</td>\n",
       "      <td>60-69</td>\n",
       "      <td>Male</td>\n",
       "      <td>None</td>\n",
       "      <td>ex</td>\n",
       "      <td>en</td>\n",
       "    </tr>\n",
       "    <tr>\n",
       "      <th>...</th>\n",
       "      <td>...</td>\n",
       "      <td>...</td>\n",
       "      <td>...</td>\n",
       "      <td>...</td>\n",
       "      <td>...</td>\n",
       "      <td>...</td>\n",
       "    </tr>\n",
       "    <tr>\n",
       "      <th>36114</th>\n",
       "      <td>2021-04-21-10_51_50_678729</td>\n",
       "      <td>20-29</td>\n",
       "      <td>Male</td>\n",
       "      <td>None</td>\n",
       "      <td>never</td>\n",
       "      <td>None</td>\n",
       "    </tr>\n",
       "    <tr>\n",
       "      <th>36115</th>\n",
       "      <td>2021-04-22-17_53_59_491941</td>\n",
       "      <td>40-49</td>\n",
       "      <td>Male</td>\n",
       "      <td>otherHeart</td>\n",
       "      <td>ex</td>\n",
       "      <td>None</td>\n",
       "    </tr>\n",
       "    <tr>\n",
       "      <th>36116</th>\n",
       "      <td>2021-04-22-20_07_08_880185</td>\n",
       "      <td>20-29</td>\n",
       "      <td>Male</td>\n",
       "      <td>None</td>\n",
       "      <td>ex</td>\n",
       "      <td>it</td>\n",
       "    </tr>\n",
       "    <tr>\n",
       "      <th>36117</th>\n",
       "      <td>2021-04-23-15_31_41_620201</td>\n",
       "      <td>50-59</td>\n",
       "      <td>Female</td>\n",
       "      <td>hbp</td>\n",
       "      <td>never</td>\n",
       "      <td>None</td>\n",
       "    </tr>\n",
       "    <tr>\n",
       "      <th>36118</th>\n",
       "      <td>2021-04-24-23_28_34_777286</td>\n",
       "      <td>40-49</td>\n",
       "      <td>Male</td>\n",
       "      <td>hbp</td>\n",
       "      <td>never</td>\n",
       "      <td>None</td>\n",
       "    </tr>\n",
       "  </tbody>\n",
       "</table>\n",
       "<p>36119 rows × 6 columns</p>\n",
       "</div>"
      ],
      "text/plain": [
       "                              Uid    Age     Sex  Medhistory Smoking Language\n",
       "0                    005G62h2Muip  20-29  Female        None  ltOnce       it\n",
       "1                    00CwMwLaxlh6  40-49    Male         hbp   never       it\n",
       "2                    00ELrVjrzo6L  20-29    Male        None   never       en\n",
       "3                    00nJAQ2uNrUW  20-29    Male        None     21+       en\n",
       "4                    00PM5iIqU9ML  60-69    Male        None      ex       en\n",
       "...                           ...    ...     ...         ...     ...      ...\n",
       "36114  2021-04-21-10_51_50_678729  20-29    Male        None   never     None\n",
       "36115  2021-04-22-17_53_59_491941  40-49    Male  otherHeart      ex     None\n",
       "36116  2021-04-22-20_07_08_880185  20-29    Male        None      ex       it\n",
       "36117  2021-04-23-15_31_41_620201  50-59  Female         hbp   never     None\n",
       "36118  2021-04-24-23_28_34_777286  40-49    Male         hbp   never     None\n",
       "\n",
       "[36119 rows x 6 columns]"
      ]
     },
     "execution_count": 4,
     "metadata": {},
     "output_type": "execute_result"
    }
   ],
   "source": [
    "df"
   ]
  },
  {
   "cell_type": "code",
   "execution_count": 5,
   "metadata": {},
   "outputs": [
    {
     "data": {
      "text/plain": [
       "Counter({'ltOnce': 1245,\n",
       "         'never': 19778,\n",
       "         '21+': 407,\n",
       "         'ex': 6382,\n",
       "         '1to10': 3995,\n",
       "         '11to20': 3072,\n",
       "         'ecig': 468,\n",
       "         'ptns': 165,\n",
       "         nan: 21,\n",
       "         'pnts': 586})"
      ]
     },
     "execution_count": 5,
     "metadata": {},
     "output_type": "execute_result"
    }
   ],
   "source": [
    "from  collections import Counter\n",
    "Counter(df['Smoking'])"
   ]
  },
  {
   "cell_type": "code",
   "execution_count": 6,
   "metadata": {},
   "outputs": [
    {
     "data": {
      "text/plain": [
       "Counter({'it': 7811,\n",
       "         'en': 16184,\n",
       "         'de': 1177,\n",
       "         'pt': 1605,\n",
       "         'es': 1918,\n",
       "         'ru': 740,\n",
       "         'el': 557,\n",
       "         'fr': 688,\n",
       "         'ro': 76,\n",
       "         'zh': 23,\n",
       "         'hi': 2,\n",
       "         'None': 5338})"
      ]
     },
     "execution_count": 6,
     "metadata": {},
     "output_type": "execute_result"
    }
   ],
   "source": [
    "Counter(df['Language'])"
   ]
  },
  {
   "cell_type": "code",
   "execution_count": 7,
   "metadata": {},
   "outputs": [
    {
     "data": {
      "text/html": [
       "<div>\n",
       "<style scoped>\n",
       "    .dataframe tbody tr th:only-of-type {\n",
       "        vertical-align: middle;\n",
       "    }\n",
       "\n",
       "    .dataframe tbody tr th {\n",
       "        vertical-align: top;\n",
       "    }\n",
       "\n",
       "    .dataframe thead th {\n",
       "        text-align: right;\n",
       "    }\n",
       "</style>\n",
       "<table border=\"1\" class=\"dataframe\">\n",
       "  <thead>\n",
       "    <tr style=\"text-align: right;\">\n",
       "      <th></th>\n",
       "      <th>Uid</th>\n",
       "      <th>Age</th>\n",
       "      <th>Sex</th>\n",
       "      <th>Medhistory</th>\n",
       "      <th>Smoking</th>\n",
       "      <th>Language</th>\n",
       "    </tr>\n",
       "  </thead>\n",
       "  <tbody>\n",
       "    <tr>\n",
       "      <th>22</th>\n",
       "      <td>049IBTUo8ygF</td>\n",
       "      <td>16-19</td>\n",
       "      <td>Other</td>\n",
       "      <td>asthma,copd</td>\n",
       "      <td>never</td>\n",
       "      <td>en</td>\n",
       "    </tr>\n",
       "    <tr>\n",
       "      <th>34</th>\n",
       "      <td>07EtguLyUcPh</td>\n",
       "      <td>20-29</td>\n",
       "      <td>Female</td>\n",
       "      <td>asthma</td>\n",
       "      <td>never</td>\n",
       "      <td>en</td>\n",
       "    </tr>\n",
       "    <tr>\n",
       "      <th>45</th>\n",
       "      <td>0B4uKgnhYNc0</td>\n",
       "      <td>30-39</td>\n",
       "      <td>Male</td>\n",
       "      <td>asthma</td>\n",
       "      <td>ex</td>\n",
       "      <td>it</td>\n",
       "    </tr>\n",
       "    <tr>\n",
       "      <th>58</th>\n",
       "      <td>0BvtQa7Jy8VR</td>\n",
       "      <td>40-49</td>\n",
       "      <td>Male</td>\n",
       "      <td>asthma,cystic,copd,pulmonary,lung,hbp,angina,s...</td>\n",
       "      <td>1to10</td>\n",
       "      <td>en</td>\n",
       "    </tr>\n",
       "    <tr>\n",
       "      <th>67</th>\n",
       "      <td>0ctHli4Kpz3B</td>\n",
       "      <td>20-29</td>\n",
       "      <td>Female</td>\n",
       "      <td>asthma</td>\n",
       "      <td>ltOnce</td>\n",
       "      <td>it</td>\n",
       "    </tr>\n",
       "    <tr>\n",
       "      <th>...</th>\n",
       "      <td>...</td>\n",
       "      <td>...</td>\n",
       "      <td>...</td>\n",
       "      <td>...</td>\n",
       "      <td>...</td>\n",
       "      <td>...</td>\n",
       "    </tr>\n",
       "    <tr>\n",
       "      <th>36043</th>\n",
       "      <td>2021-03-10-02_21_48_296609</td>\n",
       "      <td>50-59</td>\n",
       "      <td>Female</td>\n",
       "      <td>asthma,hbp,longterm</td>\n",
       "      <td>never</td>\n",
       "      <td>None</td>\n",
       "    </tr>\n",
       "    <tr>\n",
       "      <th>36044</th>\n",
       "      <td>2021-03-10-05_57_58_063480</td>\n",
       "      <td>50-59</td>\n",
       "      <td>Male</td>\n",
       "      <td>asthma,hbp</td>\n",
       "      <td>ex</td>\n",
       "      <td>None</td>\n",
       "    </tr>\n",
       "    <tr>\n",
       "      <th>36060</th>\n",
       "      <td>2021-03-12-07_41_18_158157</td>\n",
       "      <td>50-59</td>\n",
       "      <td>Male</td>\n",
       "      <td>asthma</td>\n",
       "      <td>never</td>\n",
       "      <td>None</td>\n",
       "    </tr>\n",
       "    <tr>\n",
       "      <th>36065</th>\n",
       "      <td>2021-03-14-09_46_44_035574</td>\n",
       "      <td>20-29</td>\n",
       "      <td>Male</td>\n",
       "      <td>asthma</td>\n",
       "      <td>ex</td>\n",
       "      <td>None</td>\n",
       "    </tr>\n",
       "    <tr>\n",
       "      <th>36097</th>\n",
       "      <td>2021-04-07-08_48_10_059149</td>\n",
       "      <td>40-49</td>\n",
       "      <td>Male</td>\n",
       "      <td>asthma</td>\n",
       "      <td>never</td>\n",
       "      <td>None</td>\n",
       "    </tr>\n",
       "  </tbody>\n",
       "</table>\n",
       "<p>2913 rows × 6 columns</p>\n",
       "</div>"
      ],
      "text/plain": [
       "                              Uid    Age     Sex  \\\n",
       "22                   049IBTUo8ygF  16-19   Other   \n",
       "34                   07EtguLyUcPh  20-29  Female   \n",
       "45                   0B4uKgnhYNc0  30-39    Male   \n",
       "58                   0BvtQa7Jy8VR  40-49    Male   \n",
       "67                   0ctHli4Kpz3B  20-29  Female   \n",
       "...                           ...    ...     ...   \n",
       "36043  2021-03-10-02_21_48_296609  50-59  Female   \n",
       "36044  2021-03-10-05_57_58_063480  50-59    Male   \n",
       "36060  2021-03-12-07_41_18_158157  50-59    Male   \n",
       "36065  2021-03-14-09_46_44_035574  20-29    Male   \n",
       "36097  2021-04-07-08_48_10_059149  40-49    Male   \n",
       "\n",
       "                                              Medhistory Smoking Language  \n",
       "22                                           asthma,copd   never       en  \n",
       "34                                                asthma   never       en  \n",
       "45                                                asthma      ex       it  \n",
       "58     asthma,cystic,copd,pulmonary,lung,hbp,angina,s...   1to10       en  \n",
       "67                                                asthma  ltOnce       it  \n",
       "...                                                  ...     ...      ...  \n",
       "36043                                asthma,hbp,longterm   never     None  \n",
       "36044                                         asthma,hbp      ex     None  \n",
       "36060                                             asthma   never     None  \n",
       "36065                                             asthma      ex     None  \n",
       "36097                                             asthma   never     None  \n",
       "\n",
       "[2913 rows x 6 columns]"
      ]
     },
     "execution_count": 7,
     "metadata": {},
     "output_type": "execute_result"
    }
   ],
   "source": [
    "df_asthma = df[df['Medhistory'].str.contains('asthma')]\n",
    "df_asthma"
   ]
  },
  {
   "cell_type": "code",
   "execution_count": 8,
   "metadata": {},
   "outputs": [
    {
     "data": {
      "text/plain": [
       "(297, 6)"
      ]
     },
     "execution_count": 8,
     "metadata": {},
     "output_type": "execute_result"
    }
   ],
   "source": [
    "df_copd = df[df['Medhistory'].str.contains('copd')]\n",
    "df_copd.shape"
   ]
  },
  {
   "cell_type": "code",
   "execution_count": 9,
   "metadata": {},
   "outputs": [
    {
     "data": {
      "text/plain": [
       "(979, 6)"
      ]
     },
     "execution_count": 9,
     "metadata": {},
     "output_type": "execute_result"
    }
   ],
   "source": [
    "df_long = df[df['Medhistory'].str.contains('longterm')]\n",
    "df_long.shape"
   ]
  },
  {
   "cell_type": "code",
   "execution_count": 10,
   "metadata": {},
   "outputs": [
    {
     "data": {
      "text/plain": [
       "(322, 6)"
      ]
     },
     "execution_count": 10,
     "metadata": {},
     "output_type": "execute_result"
    }
   ],
   "source": [
    "df_pu = df[df['Medhistory'].str.contains('lung')]\n",
    "df_pu.shape"
   ]
  },
  {
   "cell_type": "code",
   "execution_count": 11,
   "metadata": {},
   "outputs": [],
   "source": [
    "import pandas as pd\n",
    "df = pd.read_csv(\"results_raw_20210426_lan_yamnet_android.csv\",sep = ';')\n",
    "df = df.drop(['Location'],axis=1)\n",
    "df.to_csv(\"results_raw_20210426_lan_yamnet_android_noloc.csv\",sep = ';')\n",
    "\n",
    "df = pd.read_csv(\"results_raw_20210426_lan_yamnet_ios.csv\",sep = ';')\n",
    "df = df.drop(['Location'],axis=1)\n",
    "df.to_csv(\"results_raw_20210426_lan_yamnet_ios_noloc.csv\",sep = ';')\n",
    "\n",
    "df = pd.read_csv(\"results_raw_20210426_lan_yamnet_web.csv\",sep = ';')\n",
    "df = df.drop(['Location'],axis=1)\n",
    "df.to_csv(\"results_raw_20210426_lan_yamnet_web_noloc.csv\",sep = ';')"
   ]
  },
  {
   "cell_type": "code",
   "execution_count": null,
   "metadata": {},
   "outputs": [],
   "source": []
  }
 ],
 "metadata": {
  "kernelspec": {
   "display_name": "Python 3",
   "language": "python",
   "name": "python3"
  },
  "language_info": {
   "codemirror_mode": {
    "name": "ipython",
    "version": 3
   },
   "file_extension": ".py",
   "mimetype": "text/x-python",
   "name": "python",
   "nbconvert_exporter": "python",
   "pygments_lexer": "ipython3",
   "version": "3.8.5"
  }
 },
 "nbformat": 4,
 "nbformat_minor": 4
}
